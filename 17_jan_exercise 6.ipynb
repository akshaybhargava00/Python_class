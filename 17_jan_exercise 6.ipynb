{
 "cells": [
  {
   "cell_type": "code",
   "execution_count": 16,
   "metadata": {},
   "outputs": [
    {
     "name": "stdout",
     "output_type": "stream",
     "text": [
      "    0   1   2   3   4   5   6   7   8   9\n",
      "0  88  61   1  66  20  58  83  53  44  10\n",
      "1  28  64  23  41   6  82  74   2  10  55\n",
      "2   6  93   5  23  36  39  23  85  62  79\n",
      "3   1   4  93  90   1  89   2  29  14  81\n",
      "4  68  79  91  23  53  52  18  25  38  95\n",
      "5  26   6  67  52  62   3  39  36  45   3\n",
      "6  57  93  69  10   5  46  17  46  20  40\n",
      "7  40  26  83  93  76  11  58  87  57  13\n"
     ]
    },
    {
     "data": {
      "text/plain": [
       "[0.33, 0.01, -0.16, 0.25, -0.3, -0.45, -0.39]"
      ]
     },
     "execution_count": 16,
     "metadata": {},
     "output_type": "execute_result"
    }
   ],
   "source": [
    "#1.\tCompute the correlation of each row of df with its succeeding row.\n",
    "import numpy as np\n",
    "import pandas as pd\n",
    "df = pd.DataFrame(np.random.randint(1,100, 80).reshape(8, -1))#mean variance and no of items in reshape\n",
    "print (df)\n",
    "[df.iloc[i].corr(df.iloc[i+1]).round(2) for i in range(df.shape[0])[:-1]]"
   ]
  },
  {
   "cell_type": "code",
   "execution_count": 29,
   "metadata": {},
   "outputs": [
    {
     "name": "stdout",
     "output_type": "stream",
     "text": [
      "    0   1   2   3   4   5   6   7   8   9\n",
      "0   0  43  95  22  81  48  29  40  53   0\n",
      "1  15   0  51  98  38  18   1  14   0  87\n",
      "2  47  77   0  42  50  14   3   0  49  47\n",
      "3  97  56  57   0  46  80   0  69  17   2\n",
      "4   1  76  31  88   0   0  80  94   5  66\n",
      "5  53  19  80  93   0   0  82  68  87  83\n",
      "6  85  41  69   0   3  75   0  15  27  10\n",
      "7  64  94   0  33  13  98  63   0  80  19\n",
      "8  48   0  57  88  13  83  35  61   0   7\n",
      "9   0   2  43  55  37  98  93  85  65   0\n"
     ]
    }
   ],
   "source": [
    "#2.\tReplace both values in both diagonals of df with 0.\n",
    "df = pd.DataFrame(np.random.randint(1,100, 100).reshape(10, -1))\n",
    "df\n",
    "for i in range(df.shape[0]):\n",
    "    df.iat[i, i] = 0\n",
    "    df.iat[df.shape[0]-i-1, i] = 0\n",
    "print (df)"
   ]
  },
  {
   "cell_type": "code",
   "execution_count": 33,
   "metadata": {},
   "outputs": [
    {
     "name": "stdout",
     "output_type": "stream",
     "text": [
      "     col1      col2  col3\n",
      "0   apple  0.950331     9\n",
      "1  banana  0.736644    12\n",
      "2  orange  0.479616     3\n",
      "3   apple  0.891703     7\n",
      "4  banana  0.494007    10\n",
      "5  orange  0.225576    12\n",
      "6   apple  0.673923     4\n",
      "7  banana  0.081401     6\n",
      "8  orange  0.832303    10\n",
      "<pandas.core.groupby.groupby.DataFrameGroupBy object at 0x0000025A82297BE0>\n",
      "    col1      col2  col3\n",
      "0  apple  0.950331     9\n",
      "3  apple  0.891703     7\n",
      "6  apple  0.673923     4\n"
     ]
    }
   ],
   "source": [
    "#3.\tFrom df_grouped, get the group belonging to 'apple' as a dataframe.\n",
    "df = pd.DataFrame({'col1': ['apple', 'banana', 'orange'] * 3,\n",
    "                   'col2': np.random.rand(9),\n",
    "                   'col3': np.random.randint(0, 15, 9)})\n",
    "print(df)\n",
    "df_grouped = df.groupby(['col1'])\n",
    "print(df_grouped)\n",
    " # Solution 1\n",
    "df_grouped.get_group('apple')\n",
    "# Solution 2\n",
    "for i, dff in df_grouped:\n",
    "    if i == 'apple':\n",
    "        print(dff)\n"
   ]
  },
  {
   "cell_type": "code",
   "execution_count": 34,
   "metadata": {},
   "outputs": [
    {
     "name": "stdout",
     "output_type": "stream",
     "text": [
      "    fruit    rating  price\n",
      "0   apple  0.370782     12\n",
      "1  banana  0.862442      4\n",
      "2  orange  0.568812      4\n",
      "3   apple  0.737402     12\n",
      "4  banana  0.717854     13\n",
      "5  orange  0.919616      8\n",
      "6   apple  0.060472      3\n",
      "7  banana  0.973750     14\n",
      "8  orange  0.007488      9\n",
      "    fruit      price\n",
      "0   apple   9.000000\n",
      "1  banana  10.333333\n",
      "2  orange   7.000000\n"
     ]
    }
   ],
   "source": [
    "#5.\tIn df, Compute the mean price of every fruit, while keeping the fruit as another column instead of an index.\n",
    "df = pd.DataFrame({'fruit': ['apple', 'banana', 'orange'] * 3,\n",
    "                   'rating': np.random.rand(9),\n",
    "                   'price': np.random.randint(0, 15, 9)})\n",
    "print(df)\n",
    "out = df.groupby('fruit', as_index=False)['price'].mean()\n",
    "print(out)\n",
    "\n"
   ]
  },
  {
   "cell_type": "code",
   "execution_count": 21,
   "metadata": {},
   "outputs": [
    {
     "name": "stdout",
     "output_type": "stream",
     "text": [
      "    fruit  weight  price\n",
      "0   apple    high     12\n",
      "1  banana  medium     10\n",
      "2  orange     low      7\n",
      "3   apple    high      1\n",
      "4  banana  medium      7\n",
      "5  orange     low     14\n",
      "6   apple    high     11\n",
      "7  banana  medium      6\n",
      "8  orange     low      2\n",
      "   pazham  kilo  price\n",
      "0   apple  high      1\n",
      "1  orange   low      6\n",
      "2    pine  high      8\n",
      "3   apple   low      5\n",
      "4  orange  high     13\n",
      "5    pine   low     12\n"
     ]
    },
    {
     "data": {
      "text/html": [
       "<div>\n",
       "<style scoped>\n",
       "    .dataframe tbody tr th:only-of-type {\n",
       "        vertical-align: middle;\n",
       "    }\n",
       "\n",
       "    .dataframe tbody tr th {\n",
       "        vertical-align: top;\n",
       "    }\n",
       "\n",
       "    .dataframe thead th {\n",
       "        text-align: right;\n",
       "    }\n",
       "</style>\n",
       "<table border=\"1\" class=\"dataframe\">\n",
       "  <thead>\n",
       "    <tr style=\"text-align: right;\">\n",
       "      <th></th>\n",
       "      <th>fruit</th>\n",
       "      <th>weight</th>\n",
       "      <th>price_left</th>\n",
       "      <th>pazham</th>\n",
       "      <th>kilo</th>\n",
       "      <th>price_right</th>\n",
       "    </tr>\n",
       "  </thead>\n",
       "  <tbody>\n",
       "    <tr>\n",
       "      <th>0</th>\n",
       "      <td>apple</td>\n",
       "      <td>high</td>\n",
       "      <td>12</td>\n",
       "      <td>apple</td>\n",
       "      <td>high</td>\n",
       "      <td>1</td>\n",
       "    </tr>\n",
       "    <tr>\n",
       "      <th>1</th>\n",
       "      <td>apple</td>\n",
       "      <td>high</td>\n",
       "      <td>1</td>\n",
       "      <td>apple</td>\n",
       "      <td>high</td>\n",
       "      <td>1</td>\n",
       "    </tr>\n",
       "    <tr>\n",
       "      <th>2</th>\n",
       "      <td>apple</td>\n",
       "      <td>high</td>\n",
       "      <td>11</td>\n",
       "      <td>apple</td>\n",
       "      <td>high</td>\n",
       "      <td>1</td>\n",
       "    </tr>\n",
       "    <tr>\n",
       "      <th>3</th>\n",
       "      <td>orange</td>\n",
       "      <td>low</td>\n",
       "      <td>7</td>\n",
       "      <td>orange</td>\n",
       "      <td>low</td>\n",
       "      <td>6</td>\n",
       "    </tr>\n",
       "    <tr>\n",
       "      <th>4</th>\n",
       "      <td>orange</td>\n",
       "      <td>low</td>\n",
       "      <td>14</td>\n",
       "      <td>orange</td>\n",
       "      <td>low</td>\n",
       "      <td>6</td>\n",
       "    </tr>\n",
       "    <tr>\n",
       "      <th>5</th>\n",
       "      <td>orange</td>\n",
       "      <td>low</td>\n",
       "      <td>2</td>\n",
       "      <td>orange</td>\n",
       "      <td>low</td>\n",
       "      <td>6</td>\n",
       "    </tr>\n",
       "  </tbody>\n",
       "</table>\n",
       "</div>"
      ],
      "text/plain": [
       "    fruit weight  price_left  pazham  kilo  price_right\n",
       "0   apple   high          12   apple  high            1\n",
       "1   apple   high           1   apple  high            1\n",
       "2   apple   high          11   apple  high            1\n",
       "3  orange    low           7  orange   low            6\n",
       "4  orange    low          14  orange   low            6\n",
       "5  orange    low           2  orange   low            6"
      ]
     },
     "execution_count": 21,
     "metadata": {},
     "output_type": "execute_result"
    }
   ],
   "source": [
    "#6.\tJoin dataframes df1 and df2 by ‘fruit-pazham’ and ‘weight-kilo’.\n",
    "df1 = pd.DataFrame({'fruit': ['apple', 'banana', 'orange'] * 3,\n",
    "                    'weight': ['high', 'medium', 'low'] * 3,\n",
    "                    'price': np.random.randint(0, 15, 9)})\n",
    "print(df1)\n",
    "df2 = pd.DataFrame({'pazham': ['apple', 'orange', 'pine'] * 2,\n",
    "                    'kilo': ['high', 'low'] * 3,\n",
    "                    'price': np.random.randint(0, 15, 6)})\n",
    "print(df2)\n",
    "pd.merge(df1, df2, how='inner', left_on=['fruit', 'weight'], right_on=['pazham', 'kilo'], suffixes=['_left', '_right'])\n"
   ]
  },
  {
   "cell_type": "code",
   "execution_count": 4,
   "metadata": {},
   "outputs": [
    {
     "name": "stdout",
     "output_type": "stream",
     "text": [
      "    fruit  weight  price\n",
      "0   apple    high     10\n",
      "1  banana  medium      3\n",
      "2  orange     low      1\n",
      "3   apple    high      9\n",
      "4  banana  medium     10\n",
      "5  orange     low      5\n",
      "6   apple    high      1\n",
      "7  banana  medium     12\n",
      "8  orange     low      2\n"
     ]
    }
   ],
   "source": [
    "#7.\tFrom df1, remove the rows that are present in df2. All three columns must be the same.\n",
    "df1 = pd.DataFrame({'fruit': ['apple', 'banana', 'orange'] * 3,\n",
    "                    'weight': ['high', 'medium', 'low'] * 3,\n",
    "                    'price': np.random.randint(0, 15, 9)})\n",
    "print(df1[~df1.isin(df2).all(1)])\n"
   ]
  },
  {
   "cell_type": "code",
   "execution_count": 5,
   "metadata": {},
   "outputs": [
    {
     "name": "stdout",
     "output_type": "stream",
     "text": [
      "    a   b   c   d  a_lag1  b_lead1\n",
      "0  48  37   8  77     NaN     40.0\n",
      "1  49  40  54  62    48.0     50.0\n",
      "2  54  50  77  69    49.0     83.0\n",
      "3  26  83  27  87    54.0     17.0\n",
      "4  79  17  91  42    26.0      NaN\n"
     ]
    }
   ],
   "source": [
    "#8.\tCreate two new columns in df, one of which is a lag1 (shift column a down by 1 row) of column ‘a’ and the other is a lead1 (shift column b up by 1 row).\n",
    "df = pd.DataFrame(np.random.randint(1, 100, 20).reshape(-1, 4), columns = list('abcd'))\n",
    "df['a_lag1'] = df['a'].shift(1)\n",
    "df['b_lead1'] = df['b'].shift(-1)\n",
    "print(df)\n"
   ]
  },
  {
   "cell_type": "code",
   "execution_count": 35,
   "metadata": {},
   "outputs": [
    {
     "name": "stdout",
     "output_type": "stream",
     "text": [
      "   a  b  c  d\n",
      "0  4  2  6  9\n",
      "1  2  2  6  9\n",
      "2  2  1  1  6\n",
      "3  9  1  7  4\n",
      "4  8  5  1  5\n"
     ]
    },
    {
     "data": {
      "text/plain": [
       "2    4\n",
       "1    4\n",
       "9    3\n",
       "6    3\n",
       "5    2\n",
       "4    2\n",
       "8    1\n",
       "7    1\n",
       "dtype: int64"
      ]
     },
     "execution_count": 35,
     "metadata": {},
     "output_type": "execute_result"
    }
   ],
   "source": [
    "#9.\tGet the frequency of unique values in the entire dataframe df.\n",
    "df = pd.DataFrame(np.random.randint(1, 10, 20).reshape(-1, 4), columns = list('abcd'))\n",
    "print(df)\n",
    "pd.value_counts(df.values.ravel())"
   ]
  },
  {
   "cell_type": "code",
   "execution_count": 46,
   "metadata": {},
   "outputs": [
    {
     "name": "stdout",
     "output_type": "stream",
     "text": [
      "                          row\n",
      "0          STD, City    State\n",
      "1  33, Kolkata    West Bengal\n",
      "2   44, Chennai    Tamil Nadu\n",
      "3  40, Hyderabad    Telengana\n",
      "4  80, Bangalore    Karnataka\n",
      "0 STD            City    State\n",
      "1  33   Kolkata    West Bengal\n",
      "2  44    Chennai    Tamil Nadu\n",
      "3  40   Hyderabad    Telengana\n",
      "4  80   Bangalore    Karnataka\n"
     ]
    }
   ],
   "source": [
    "#10.\tSplit the string column in df to form a dataframe with 3 columns as shown.\n",
    "df = pd.DataFrame([\"STD, City    State\",\n",
    "\"33, Kolkata    West Bengal\",\n",
    "\"44, Chennai    Tamil Nadu\",\n",
    "\"40, Hyderabad    Telengana\",\n",
    "\"80, Bangalore    Karnataka\"], columns=['row'])\n",
    "\n",
    "print(df)\n",
    "\n",
    "# Solution\n",
    "df_out = df.row.str.split(',|\\t', expand=True)\n",
    "# Make first row as header\n",
    "new_header = df_out.iloc[0]\n",
    "df_out = df_out[1:]\n",
    "df_out.columns = new_header\n",
    "print(df_out)\n"
   ]
  },
  {
   "cell_type": "code",
   "execution_count": 32,
   "metadata": {},
   "outputs": [
    {
     "data": {
      "text/plain": [
       "6.708203932499369"
      ]
     },
     "execution_count": 32,
     "metadata": {},
     "output_type": "execute_result"
    }
   ],
   "source": [
    "#11.\tCompute the euclidean distance between two arrays a and b.\n",
    "a = np.array([1,2,3,4,5])\n",
    "b = np.array([4,5,6,7,8])\n",
    "dist = np.linalg.norm(a-b)\n",
    "dist\n"
   ]
  },
  {
   "cell_type": "code",
   "execution_count": 47,
   "metadata": {},
   "outputs": [
    {
     "name": "stdout",
     "output_type": "stream",
     "text": [
      "array:  [8 8 3 7 7 0 4 2 5 2]\n"
     ]
    },
    {
     "data": {
      "text/plain": [
       "array([6.33333333, 6.        , 5.66666667, 4.66666667, 3.66666667,\n",
       "       2.        , 3.66666667, 3.        ])"
      ]
     },
     "execution_count": 47,
     "metadata": {},
     "output_type": "execute_result"
    }
   ],
   "source": [
    "#12.\tCompute the moving average of window size 3, for the given 1D array.\n",
    "np.random.seed(100)\n",
    "Z = np.random.randint(10, size=10)\n",
    "def moving_average(a, n=3) :\n",
    "    ret = np.cumsum(a, dtype=float)\n",
    "    ret[n:] = ret[n:] - ret[:-n]\n",
    "    return ret[n - 1:] / n\n",
    "np.random.seed(100)\n",
    "Z = np.random.randint(10, size=10)\n",
    "print('array: ', Z)\n",
    "# Method 1\n",
    "moving_average(Z, n=3).round(2)\n",
    "#Method 2\n",
    "# np.ones(3)/3 gives equal weights. Use np.ones(4)/4 for window size 4.\n",
    "np.convolve(Z, np.ones(3)/3, mode='valid') \n",
    "#> array:  [8 8 3 7 7 0 4 2 5 2]\n",
    "#> moving average:  [ 6.33  6.    5.67  4.67  3.67  2.    3.67  3.  ]\n",
    "\n"
   ]
  },
  {
   "cell_type": "code",
   "execution_count": 11,
   "metadata": {},
   "outputs": [
    {
     "name": "stdout",
     "output_type": "stream",
     "text": [
      "    fruit    rating   taste  price\n",
      "0   apple  0.824681   sweet      0\n",
      "1  banana  0.804285    sour      9\n",
      "2  orange  0.669313  bitter      1\n",
      "3   apple  0.556470   sweet      0\n",
      "4  banana  0.141374    sour     13\n",
      "5  orange  0.630926  bitter      6\n",
      "6   apple  0.351527   sweet      9\n",
      "7  banana  0.546085    sour      6\n",
      "8  orange  0.583527  bitter      9\n"
     ]
    },
    {
     "data": {
      "text/plain": [
       "'sour'"
      ]
     },
     "execution_count": 11,
     "metadata": {},
     "output_type": "execute_result"
    }
   ],
   "source": [
    "#4.\tIn df, find the second largest value of 'taste' for 'banana'\n",
    "df = pd.DataFrame({'fruit': ['apple', 'banana', 'orange'] * 3,\n",
    "                   'rating': np.random.rand(9),\n",
    "                   'taste': ['sweet', 'sour', 'bitter'] * 3,\n",
    "                   'price': np.random.randint(0, 15, 9)})\n",
    "print(df)\n",
    "df_grpd = df['taste'].groupby(df.fruit)\n",
    "df_grpd.get_group('banana').sort_values().iloc[-2]\n"
   ]
  },
  {
   "cell_type": "code",
   "execution_count": null,
   "metadata": {},
   "outputs": [],
   "source": []
  },
  {
   "cell_type": "code",
   "execution_count": null,
   "metadata": {},
   "outputs": [],
   "source": []
  },
  {
   "cell_type": "code",
   "execution_count": null,
   "metadata": {},
   "outputs": [],
   "source": []
  }
 ],
 "metadata": {
  "kernelspec": {
   "display_name": "Python 3",
   "language": "python",
   "name": "python3"
  },
  "language_info": {
   "codemirror_mode": {
    "name": "ipython",
    "version": 3
   },
   "file_extension": ".py",
   "mimetype": "text/x-python",
   "name": "python",
   "nbconvert_exporter": "python",
   "pygments_lexer": "ipython3",
   "version": "3.7.0"
  }
 },
 "nbformat": 4,
 "nbformat_minor": 2
}
