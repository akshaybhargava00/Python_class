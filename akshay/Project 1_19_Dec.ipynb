{
 "cells": [
  {
   "cell_type": "code",
   "execution_count": 12,
   "metadata": {},
   "outputs": [],
   "source": [
    "import os\n",
    "os.chdir('C:\\\\Users\\\\IBS\\\\Documents\\\\akshay')"
   ]
  },
  {
   "cell_type": "code",
   "execution_count": 13,
   "metadata": {},
   "outputs": [
    {
     "data": {
      "text/plain": [
       "'C:\\\\Users\\\\IBS\\\\Documents\\\\akshay'"
      ]
     },
     "execution_count": 13,
     "metadata": {},
     "output_type": "execute_result"
    }
   ],
   "source": [
    "pwd #to know the path"
   ]
  },
  {
   "cell_type": "code",
   "execution_count": 14,
   "metadata": {},
   "outputs": [],
   "source": [
    "import os\n",
    "os.chdir('C:\\\\Users\\\\IBS')"
   ]
  },
  {
   "cell_type": "code",
   "execution_count": 15,
   "metadata": {},
   "outputs": [],
   "source": [
    "import os #to change the directory\n",
    "os.chdir('C:\\\\Users\\\\IBS\\\\Documents\\\\akshay')"
   ]
  },
  {
   "cell_type": "code",
   "execution_count": 16,
   "metadata": {},
   "outputs": [
    {
     "data": {
      "text/plain": [
       "array([-0.42016513, -1.10868127,  0.5680804 , -1.02197795])"
      ]
     },
     "execution_count": 16,
     "metadata": {},
     "output_type": "execute_result"
    }
   ],
   "source": [
    "import random #we have imported two package random and numpy andrename numpy as np\n",
    "import numpy as np\n",
    "np.random.normal(size=4)"
   ]
  },
  {
   "cell_type": "code",
   "execution_count": 17,
   "metadata": {},
   "outputs": [
    {
     "name": "stdout",
     "output_type": "stream",
     "text": [
      "-16.02059991327962\n"
     ]
    }
   ],
   "source": [
    "import math\n",
    "signal_power=5\n",
    "noise_power=200\n",
    "ratio=signal_power/noise_power\n",
    "decible=10*math.log10(ratio)\n",
    "print(decible)"
   ]
  },
  {
   "cell_type": "code",
   "execution_count": 18,
   "metadata": {},
   "outputs": [
    {
     "name": "stdout",
     "output_type": "stream",
     "text": [
      "0.644217687237691\n"
     ]
    }
   ],
   "source": [
    "radians=.7\n",
    "height=math.sin(radians)\n",
    "print(height)"
   ]
  },
  {
   "cell_type": "markdown",
   "metadata": {},
   "source": [
    "This is a program  for test -----this has become as comment and we use cell-->marktype"
   ]
  },
  {
   "cell_type": "code",
   "execution_count": 19,
   "metadata": {},
   "outputs": [
    {
     "name": "stdout",
     "output_type": "stream",
     "text": [
      "0.7071067811865476\n"
     ]
    }
   ],
   "source": [
    "degrees=45\n",
    "radians=degrees/360*2*math.pi\n",
    "rad=math.sin(radians)\n",
    "print(rad)"
   ]
  },
  {
   "cell_type": "code",
   "execution_count": 20,
   "metadata": {},
   "outputs": [
    {
     "name": "stdout",
     "output_type": "stream",
     "text": [
      "0.7071067811865476\n"
     ]
    }
   ],
   "source": [
    "squareroot=math.sqrt(2)/2\n",
    "print(squareroot)"
   ]
  },
  {
   "cell_type": "code",
   "execution_count": 21,
   "metadata": {},
   "outputs": [
    {
     "name": "stdout",
     "output_type": "stream",
     "text": [
      "ABC\n",
      "Zap\n"
     ]
    }
   ],
   "source": [
    "# Exercise 2\n",
    "def fred():\n",
    "    print (\"Zap\")\n",
    "def jane():\n",
    "    print (\"ABC\")\n",
    "jane()\n",
    "fred()"
   ]
  },
  {
   "cell_type": "code",
   "execution_count": 22,
   "metadata": {},
   "outputs": [
    {
     "name": "stdout",
     "output_type": "stream",
     "text": [
      "enter no. of hours\n",
      "56\n",
      "enter rate\n",
      "55\n",
      "3520.0\n"
     ]
    }
   ],
   "source": [
    "#compute tyime and pay user input\n",
    "input_hours=input(\"enter no. of hours\\n\")\n",
    "try:\n",
    "    hours=float(input_hours)\n",
    "except:\n",
    "    print('Error, please enter number')\n",
    "    quit()\n",
    "input_rate=input(\"enter rate\\n\")\n",
    "try:\n",
    "    rate=float(input_rate)\n",
    "except:\n",
    "    print('Error, please enter number')\n",
    "    quit()\n",
    "if hours<40:\n",
    "    pay=rate*hours\n",
    "    print(B)\n",
    "else:\n",
    "    pay=40*rate+1.5*(hours-40)*rate\n",
    "print(pay)"
   ]
  },
  {
   "cell_type": "code",
   "execution_count": 23,
   "metadata": {},
   "outputs": [
    {
     "name": "stdout",
     "output_type": "stream",
     "text": [
      "type the score \n",
      ".3\n",
      "E\n"
     ]
    }
   ],
   "source": [
    "score=input(\"type the score \\n\")\n",
    "try:\n",
    "    score= float(score)\n",
    "except:\n",
    "    print(\"bad score\")\n",
    "\n",
    "if score>0 and score<1:\n",
    "    if score>=0.9:\n",
    "        print('Grade=A\\n')\n",
    "    elif score>=0.8 and score<0.9:\n",
    "        print('Grade=B\\n')\n",
    "    elif score>=0.7 and score<0.8:\n",
    "        print('Grade=C\\n')\n",
    "    elif score>=0.6 and score<0.7: \n",
    "        print('Grade=D\\n')\n",
    "    else:\n",
    "        print(\"E\")\n",
    "else:\n",
    "    print('invalid')"
   ]
  },
  {
   "cell_type": "code",
   "execution_count": null,
   "metadata": {},
   "outputs": [],
   "source": []
  },
  {
   "cell_type": "code",
   "execution_count": null,
   "metadata": {},
   "outputs": [],
   "source": []
  },
  {
   "cell_type": "code",
   "execution_count": null,
   "metadata": {},
   "outputs": [],
   "source": []
  }
 ],
 "metadata": {
  "kernelspec": {
   "display_name": "Python 3",
   "language": "python",
   "name": "python3"
  },
  "language_info": {
   "codemirror_mode": {
    "name": "ipython",
    "version": 3
   },
   "file_extension": ".py",
   "mimetype": "text/x-python",
   "name": "python",
   "nbconvert_exporter": "python",
   "pygments_lexer": "ipython3",
   "version": "3.7.0"
  }
 },
 "nbformat": 4,
 "nbformat_minor": 2
}
