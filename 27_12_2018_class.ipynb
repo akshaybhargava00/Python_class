{
 "cells": [
  {
   "cell_type": "code",
   "execution_count": null,
   "metadata": {},
   "outputs": [],
   "source": [
    "count =0\n",
    "total=0\n",
    "largest=None\n",
    "smallest=None\n",
    "\n",
    "while True:\n",
    "    input_number=input('enter a number')\n",
    "    if input_number=='done':break\n",
    "    try:\n",
    "        number=float(input_number)\n",
    "    except:\n",
    "        print('invalid input')\n",
    "    count=count+1\n",
    "    total=total+number\n",
    "average=total/number\n",
    "print(total,count,number)"
   ]
  },
  {
   "cell_type": "code",
   "execution_count": 6,
   "metadata": {},
   "outputs": [
    {
     "name": "stdout",
     "output_type": "stream",
     "text": [
      "enter a number \n",
      "l\n",
      "invalid input \n",
      "\n",
      "enter a number \n",
      "8\n",
      "enter a number \n",
      "9\n",
      "enter a number \n",
      "done\n",
      "17.0 2 9.0 6.0\n"
     ]
    }
   ],
   "source": [
    "count =0\n",
    "total=0\n",
    "largest=None\n",
    "smallest=None\n",
    "while True:\n",
    "    input1=input('enter a number \\n')\n",
    "    if input1=='done':break\n",
    "    try:\n",
    "        number=float(input1)\n",
    "        count=count+1\n",
    "        total=total+number\n",
    "    except:   \n",
    "        print('invalid input \\n')\n",
    "    if largest is None or number > largest:\n",
    "        largest=number\n",
    "    if smallest is None or number< smallest:\n",
    "        smallest=number\n",
    "    \n",
    "print(total,count,largest,smallest)"
   ]
  },
  {
   "cell_type": "code",
   "execution_count": 9,
   "metadata": {},
   "outputs": [
    {
     "name": "stdout",
     "output_type": "stream",
     "text": [
      "{'y': 1, 'a': 1, 'h': 1, 'o': 3, '.': 1, 'c': 1, 'm': 1}\n"
     ]
    }
   ],
   "source": [
    "#to count number of char in string\n",
    "def char_freq(str1):\n",
    "    dict={}\n",
    "    for n in str1:\n",
    "        keys= dict.keys()\n",
    "        if n in keys:\n",
    "            dict[n]+=1\n",
    "        else:\n",
    "            dict[n]=1\n",
    "    return dict\n",
    "print(char_freq('yahoo.com'))\n"
   ]
  },
  {
   "cell_type": "code",
   "execution_count": 14,
   "metadata": {},
   "outputs": [
    {
     "name": "stdout",
     "output_type": "stream",
     "text": [
      "xycabz\n"
     ]
    }
   ],
   "source": [
    "#to swap first two  character of strings \n",
    "def chars_mix_up(a,b):\n",
    "    new_a=b[:2]+a[2:]\n",
    "    new_b=a[:2]+b[2:]\n",
    "    return new_a+''+new_b\n",
    "print(chars_mix_up('abc','xyz'))"
   ]
  },
  {
   "cell_type": "code",
   "execution_count": 22,
   "metadata": {},
   "outputs": [
    {
     "name": "stdout",
     "output_type": "stream",
     "text": [
      "ab\n",
      "abcly\n",
      "akshaying\n"
     ]
    }
   ],
   "source": [
    "#to add ing at the last of string if string last have ing then change to ly and if length\n",
    "#less than 3 then no change if greater then add ing\n",
    "def add_string(str1):\n",
    "    length=len(str1)\n",
    "    if length >2:\n",
    "        if str1[-3:]=='ing':\n",
    "            str1=str1[:length-3]\n",
    "            str1+='ly'\n",
    "        else:\n",
    "            str1+='ing'\n",
    "    return str1\n",
    "print (add_string('ab'))\n",
    "print (add_string('abcing'))\n",
    "print (add_string('akshay'))\n",
    "\n",
    "        "
   ]
  },
  {
   "cell_type": "code",
   "execution_count": 26,
   "metadata": {},
   "outputs": [
    {
     "name": "stdout",
     "output_type": "stream",
     "text": [
      "The lyrics is good\n",
      "The lyrics is poor\n"
     ]
    }
   ],
   "source": [
    "#find the foirst appearance of not and poor .if not follows poor then change whole by good\n",
    "def not_poor(str1):\n",
    "    snot=str1.find('not')\n",
    "    spoor=str1.find('poor')\n",
    "    if spoor > snot and snot>0 and spoor>0:\n",
    "        str1=str1.replace(str1[snot:(spoor+4)],'good')\n",
    "        return str1\n",
    "    else:\n",
    "        return str1\n",
    "print(not_poor('The lyrics is not that poor'))\n",
    "print(not_poor('The lyrics is poor'))\n"
   ]
  },
  {
   "cell_type": "code",
   "execution_count": null,
   "metadata": {},
   "outputs": [],
   "source": []
  }
 ],
 "metadata": {
  "kernelspec": {
   "display_name": "Python 3",
   "language": "python",
   "name": "python3"
  },
  "language_info": {
   "codemirror_mode": {
    "name": "ipython",
    "version": 3
   },
   "file_extension": ".py",
   "mimetype": "text/x-python",
   "name": "python",
   "nbconvert_exporter": "python",
   "pygments_lexer": "ipython3",
   "version": "3.7.0"
  }
 },
 "nbformat": 4,
 "nbformat_minor": 2
}
