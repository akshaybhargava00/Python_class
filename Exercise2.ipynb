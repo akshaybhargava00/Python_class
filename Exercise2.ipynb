{
 "cells": [
  {
   "cell_type": "markdown",
   "metadata": {},
   "source": [
    "## Exercise 2"
   ]
  },
  {
   "cell_type": "markdown",
   "metadata": {},
   "source": [
    "1.\tReshape the series ser into a dataframe with 7 rows and 5 columns"
   ]
  },
  {
   "cell_type": "code",
   "execution_count": 1,
   "metadata": {},
   "outputs": [],
   "source": [
    "import numpy as np\n",
    "import pandas as pd"
   ]
  },
  {
   "cell_type": "code",
   "execution_count": 4,
   "metadata": {},
   "outputs": [
    {
     "name": "stdout",
     "output_type": "stream",
     "text": [
      "0     4\n",
      "1     4\n",
      "2     5\n",
      "3     2\n",
      "4     9\n",
      "5     9\n",
      "6     5\n",
      "7     3\n",
      "8     5\n",
      "9     9\n",
      "10    6\n",
      "11    8\n",
      "12    7\n",
      "13    2\n",
      "14    3\n",
      "15    1\n",
      "16    6\n",
      "17    5\n",
      "18    3\n",
      "19    8\n",
      "20    4\n",
      "21    5\n",
      "22    8\n",
      "23    7\n",
      "24    9\n",
      "25    4\n",
      "26    2\n",
      "27    4\n",
      "28    3\n",
      "29    4\n",
      "30    5\n",
      "31    5\n",
      "32    3\n",
      "33    9\n",
      "34    9\n",
      "dtype: int32\n"
     ]
    },
    {
     "data": {
      "text/plain": [
       "0    4\n",
       "1    4\n",
       "2    5\n",
       "3    2\n",
       "4    9\n",
       "dtype: int32"
      ]
     },
     "execution_count": 4,
     "metadata": {},
     "output_type": "execute_result"
    }
   ],
   "source": [
    "ser = pd.Series(np.random.randint(1, 10, 35))\n",
    "print(ser)\n",
    "ser.head()"
   ]
  },
  {
   "cell_type": "code",
   "execution_count": 5,
   "metadata": {},
   "outputs": [
    {
     "name": "stdout",
     "output_type": "stream",
     "text": [
      "   0  1  2  3  4\n",
      "0  7  8  6  3  8\n",
      "1  6  9  2  4  2\n",
      "2  5  2  1  8  6\n",
      "3  3  2  7  5  4\n",
      "4  3  7  7  2  4\n",
      "5  6  6  6  2  5\n",
      "6  5  2  6  2  3\n"
     ]
    }
   ],
   "source": [
    "df=pd.DataFrame(ser.values.reshape(7,5))\n",
    "print(df)"
   ]
  },
  {
   "cell_type": "markdown",
   "metadata": {},
   "source": [
    "2.\tFind the positions of numbers that are multiples of 3 from ser."
   ]
  },
  {
   "cell_type": "code",
   "execution_count": 6,
   "metadata": {},
   "outputs": [
    {
     "name": "stdout",
     "output_type": "stream",
     "text": [
      "0    4\n",
      "1    4\n",
      "2    6\n",
      "3    5\n",
      "4    7\n",
      "5    4\n",
      "6    6\n",
      "dtype: int32\n"
     ]
    },
    {
     "data": {
      "text/plain": [
       "array([[2],\n",
       "       [6]], dtype=int64)"
      ]
     },
     "execution_count": 6,
     "metadata": {},
     "output_type": "execute_result"
    }
   ],
   "source": [
    "ser = pd.Series(np.random.randint(1, 10, 7)) #meaqn sd observation\n",
    "print(ser)\n",
    "np.argwhere(ser%3==0)"
   ]
  },
  {
   "cell_type": "markdown",
   "metadata": {},
   "source": [
    "3.\tFrom ser, extract the items at positions in list pos."
   ]
  },
  {
   "cell_type": "code",
   "execution_count": 10,
   "metadata": {},
   "outputs": [
    {
     "data": {
      "text/plain": [
       "0     a\n",
       "4     e\n",
       "8     i\n",
       "14    o\n",
       "20    u\n",
       "dtype: object"
      ]
     },
     "execution_count": 10,
     "metadata": {},
     "output_type": "execute_result"
    }
   ],
   "source": [
    "ser = pd.Series(list('abcdefghijklmnopqrstuvwxyz'))\n",
    "pos = [0, 4, 8, 14, 20]\n",
    "ser.take(pos)"
   ]
  },
  {
   "cell_type": "markdown",
   "metadata": {},
   "source": [
    "4.\tStack ser1 and ser2 vertically and horizontally (to form a dataframe)."
   ]
  },
  {
   "cell_type": "code",
   "execution_count": 19,
   "metadata": {},
   "outputs": [
    {
     "name": "stdout",
     "output_type": "stream",
     "text": [
      "0    0\n",
      "1    1\n",
      "2    2\n",
      "3    3\n",
      "4    4\n",
      "dtype: int64\n",
      "0    a\n",
      "1    b\n",
      "2    c\n",
      "3    d\n",
      "4    e\n",
      "dtype: object\n"
     ]
    },
    {
     "data": {
      "text/plain": [
       "0    0\n",
       "1    1\n",
       "2    2\n",
       "3    3\n",
       "4    4\n",
       "0    a\n",
       "1    b\n",
       "2    c\n",
       "3    d\n",
       "4    e\n",
       "dtype: object"
      ]
     },
     "execution_count": 19,
     "metadata": {},
     "output_type": "execute_result"
    }
   ],
   "source": [
    "#Vertical\n",
    "ser1 = pd.Series(range(5))\n",
    "print(ser1)\n",
    "ser2 = pd.Series(list('abcde'))\n",
    "print(ser2)\n",
    "ser1.append(ser2)"
   ]
  },
  {
   "cell_type": "code",
   "execution_count": 18,
   "metadata": {},
   "outputs": [
    {
     "name": "stdout",
     "output_type": "stream",
     "text": [
      "   0  1\n",
      "0  0  a\n",
      "1  1  b\n",
      "2  2  c\n",
      "3  3  d\n",
      "4  4  e\n"
     ]
    }
   ],
   "source": [
    "#Horizontal\n",
    "ser1 = pd.Series(range(5))\n",
    "ser2 = pd.Series(list('abcde'))\n",
    "df=pd.concat([ser1,ser2],axis=1) # axis=1 for rows and axis=0 for columns\n",
    "print(df)"
   ]
  },
  {
   "cell_type": "markdown",
   "metadata": {},
   "source": [
    "5.\tGet the positions of items of ser2 in ser1 as a list."
   ]
  },
  {
   "cell_type": "code",
   "execution_count": 21,
   "metadata": {},
   "outputs": [
    {
     "data": {
      "text/plain": [
       "[5, 4, 0, 8]"
      ]
     },
     "execution_count": 21,
     "metadata": {},
     "output_type": "execute_result"
    }
   ],
   "source": [
    "ser1 = pd.Series([10, 9, 6, 5, 3, 1, 12, 8, 13])\n",
    "ser2 = pd.Series([1, 3, 10, 13])\n",
    "[np.where(i==ser1)[0].tolist()[0]for i in ser2]\n",
    "#OR\n",
    "[pd.Index(ser1).get_loc(i) for i in ser2]"
   ]
  },
  {
   "cell_type": "code",
   "execution_count": 23,
   "metadata": {},
   "outputs": [
    {
     "name": "stdout",
     "output_type": "stream",
     "text": [
      "0    0\n",
      "1    1\n",
      "2    2\n",
      "3    3\n",
      "4    4\n",
      "5    5\n",
      "6    6\n",
      "7    7\n",
      "8    8\n",
      "9    9\n",
      "dtype: int64\n",
      "0    0.103614\n",
      "1    1.713014\n",
      "2    2.787678\n",
      "3    3.479132\n",
      "4    4.700155\n",
      "5    5.675957\n",
      "6    6.771226\n",
      "7    7.002684\n",
      "8    8.517281\n",
      "9    9.178029\n",
      "dtype: float64\n"
     ]
    },
    {
     "data": {
      "text/plain": [
       "0.3210335057925999"
      ]
     },
     "execution_count": 23,
     "metadata": {},
     "output_type": "execute_result"
    }
   ],
   "source": [
    "#6.\tCompute the mean squared error of truth and pred series.\n",
    "truth = pd.Series(range(10))\n",
    "print (truth)\n",
    "pred = pd.Series(range(10)) + np.random.random(10)\n",
    "print (pred)\n",
    "np.mean((truth-pred)**2)"
   ]
  },
  {
   "cell_type": "code",
   "execution_count": 12,
   "metadata": {},
   "outputs": [
    {
     "data": {
      "text/plain": [
       "0      How\n",
       "1       To\n",
       "2    Write\n",
       "3    Code?\n",
       "dtype: object"
      ]
     },
     "execution_count": 12,
     "metadata": {},
     "output_type": "execute_result"
    }
   ],
   "source": [
    "#7.\tChange the first character of each word to upper case in each word of ser.\n",
    "ser = pd.Series(['how', 'to', 'write', 'code?'])\n",
    "ser.map(lambda x: x.title())\n",
    "#OR\n",
    "ser.map(lambda x:x[0].upper()+x[1:])\n",
    "#Or\n",
    "pd.Series([i.title() for i in ser])"
   ]
  },
  {
   "cell_type": "code",
   "execution_count": 13,
   "metadata": {},
   "outputs": [
    {
     "data": {
      "text/plain": [
       "0    3\n",
       "1    2\n",
       "2    5\n",
       "3    5\n",
       "dtype: int64"
      ]
     },
     "execution_count": 13,
     "metadata": {},
     "output_type": "execute_result"
    }
   ],
   "source": [
    "#8.\tCalculate the number of characters in each word in the following series\n",
    "ser = pd.Series(['how', 'to', 'write', 'code?'])\n",
    "ser.map(lambda x:len(x))\n"
   ]
  },
  {
   "cell_type": "code",
   "execution_count": 14,
   "metadata": {},
   "outputs": [
    {
     "name": "stdout",
     "output_type": "stream",
     "text": [
      "[nan, 2.0, 3.0, 4.0, 5.0, 6.0, 6.0, 8.0]\n"
     ]
    }
   ],
   "source": [
    "#.\tCompute difference of differences between consequtive numbers of the following series?\n",
    "ser = pd.Series([1, 3, 6, 10, 15, 21, 27, 35])\n",
    "print(ser.diff().tolist())\n"
   ]
  },
  {
   "cell_type": "code",
   "execution_count": 17,
   "metadata": {},
   "outputs": [
    {
     "data": {
      "text/plain": [
       "0   2010-01-01 00:00:00\n",
       "1   2011-02-02 00:00:00\n",
       "2   2012-03-03 00:00:00\n",
       "3   2013-04-04 00:00:00\n",
       "4   2014-05-05 00:00:00\n",
       "5   2015-06-06 12:20:00\n",
       "dtype: datetime64[ns]"
      ]
     },
     "execution_count": 17,
     "metadata": {},
     "output_type": "execute_result"
    }
   ],
   "source": [
    "#10.\tConvert the following series of date-strings to a timeseries?\n",
    "ser = pd.Series(['01 Jan 2010', '02-02-2011', '20120303', '2013/04/04', '2014-05-05', '2015-06-06T12:20'])\n",
    "#solution 1\n",
    "from dateutil.parser import parse\n",
    "ser.map(lambda x:parse(x))\n",
    "#solution 2\n",
    "pd.to_datetime(ser)"
   ]
  },
  {
   "cell_type": "code",
   "execution_count": 37,
   "metadata": {},
   "outputs": [
    {
     "name": "stdout",
     "output_type": "stream",
     "text": [
      "Date: [31, 2, 3, 4, 5, 6]\n",
      "Week number [1, 5, 9, 14, 19, 23]\n",
      "Day of Year [365, 33, 63, 94, 125, 157]\n",
      "Day of Week [0, 2, 5, 3, 0, 5]\n"
     ]
    }
   ],
   "source": [
    "#11.\tGet the day of month, week number, day of year and day of week from ser.\n",
    "ser = pd.Series(['31 Dec 2018', '02-02-2011', '20120303', '2013/04/04', '2014-05-05', '2015-06-06T12:20'])\n",
    "from dateutil.parser import parse\n",
    "ser_ts = ser.map(lambda x: parse(x))\n",
    "#day of month\n",
    "print(\"Date:\",ser_ts.dt.day.tolist())\n",
    "#week number\n",
    "print(\"Week number\",ser_ts.dt.weekofyear.tolist())\n",
    "#day of year \n",
    "print(\"Day of Year\",ser_ts.dt.dayofyear.tolist())\n",
    "#day of week \n",
    "print(\"Day of Week\",ser_ts.dt.dayofweek.tolist())"
   ]
  },
  {
   "cell_type": "code",
   "execution_count": 45,
   "metadata": {},
   "outputs": [
    {
     "name": "stdout",
     "output_type": "stream",
     "text": [
      "0    2010-1-04\n",
      "1    2011-2-04\n",
      "2    2012-3-04\n",
      "dtype: object\n"
     ]
    },
    {
     "data": {
      "text/plain": [
       "0   2010-01-04\n",
       "1   2011-02-04\n",
       "2   2012-03-04\n",
       "dtype: datetime64[ns]"
      ]
     },
     "execution_count": 45,
     "metadata": {},
     "output_type": "execute_result"
    }
   ],
   "source": [
    "#12.\tChange ser to dates that start with 4th of the respective months.\n",
    "ser = pd.Series(['Jan 2010', 'Feb 2011', 'Mar 2012'])\n",
    "from dateutil.parser import parse\n",
    "#Parse the date\n",
    "ser_ts=ser.map(lambda x: parse(x))\n",
    "ser_datestr=ser_ts.dt.year.astype('str')+'-'+ ser_ts.dt.month.astype('str')+'-'+'04'\n",
    "print(ser_datestr)\n",
    "#format\n",
    "[parse(i).strftime('%Y-%m-%d') for i in ser_datestr]\n",
    "#OR\n",
    "ser.map(lambda x:parse('04'+x))"
   ]
  },
  {
   "cell_type": "code",
   "execution_count": 50,
   "metadata": {},
   "outputs": [
    {
     "data": {
      "text/plain": [
       "0      Apple\n",
       "1     Orange\n",
       "4      Money\n",
       "5    Jessica\n",
       "6     Akshay\n",
       "7     Swarna\n",
       "dtype: object"
      ]
     },
     "execution_count": 50,
     "metadata": {},
     "output_type": "execute_result"
    }
   ],
   "source": [
    "#13.\tFrom ser, extract words that contain atleast 2 vowels.\n",
    "ser = pd.Series(['Apple', 'Orange', 'Plan', 'Python', 'Money','Jessica','Akshay','Swarna'])\n",
    "from collections import Counter\n",
    "mask=ser.map(lambda x:sum([Counter(x.lower()).get(i,0) for i in list('aeiou')])>=2)\n",
    "ser[mask]"
   ]
  },
  {
   "cell_type": "code",
   "execution_count": 61,
   "metadata": {},
   "outputs": [
    {
     "data": {
      "text/plain": [
       "['rameses@egypt.com', 'matt@t.co', 'narendra@modi.com']"
      ]
     },
     "execution_count": 61,
     "metadata": {},
     "output_type": "execute_result"
    }
   ],
   "source": [
    "#14.\tExtract the valid emails from the series emails. The regex pattern for valid emails is provided as reference.\n",
    "#solution 1\n",
    "emails = pd.Series(['buying books at amazom.com', 'rameses@egypt.com', 'matt@t.co', 'narendra@modi.com'])\n",
    "#import re\n",
    "#pattern ='[A-Za-z0-9._%+-]+@[A-Za-z0-9.-]+\\\\.[A-Za-z]{2,4}'\n",
    "#mask=emails.map(lambda x: bool(re.match(pattern, x)))\n",
    "#emails[mask]\n",
    "\n",
    "#OR\n",
    "#emails.str.findall(pattern,flags=re.IGNORECASE)\n",
    "#OR\n",
    "[x[0] for x in [re.findall(pattern,email) for email in emails] if len(x)>0]"
   ]
  },
  {
   "cell_type": "code",
   "execution_count": 64,
   "metadata": {},
   "outputs": [
    {
     "name": "stdout",
     "output_type": "stream",
     "text": [
      "[1.0, 2.0, 3.0, 4.0, 5.0, 6.0, 7.0, 8.0, 9.0, 10.0]\n",
      "['carrot', 'carrot', 'apple', 'banana', 'banana', 'apple', 'apple', 'carrot', 'carrot', 'banana']\n",
      "apple     5.333333\n",
      "banana    6.333333\n",
      "carrot    5.000000\n",
      "dtype: float64\n"
     ]
    }
   ],
   "source": [
    "#15.\t Compute the mean of weights of each fruit.\n",
    "\n",
    "fruit = pd.Series(np.random.choice(['apple', 'banana', 'carrot'], 10))\n",
    "weights = pd.Series(np.linspace(1, 10, 10))\n",
    "print(weights.tolist())\n",
    "print(fruit.tolist())\n",
    "print(weights.groupby(fruit).mean())\n",
    "#> [1.0, 2.0, 3.0, 4.0, 5.0, 6.0, 7.0, 8.0, 9.0, 10.0]\n",
    "#> ['banana', 'carrot', 'apple', 'carrot', 'carrot', 'apple', 'banana', 'carrot', 'apple', 'carrot']\n"
   ]
  },
  {
   "cell_type": "code",
   "execution_count": null,
   "metadata": {},
   "outputs": [],
   "source": []
  }
 ],
 "metadata": {
  "kernelspec": {
   "display_name": "Python 3",
   "language": "python",
   "name": "python3"
  },
  "language_info": {
   "codemirror_mode": {
    "name": "ipython",
    "version": 3
   },
   "file_extension": ".py",
   "mimetype": "text/x-python",
   "name": "python",
   "nbconvert_exporter": "python",
   "pygments_lexer": "ipython3",
   "version": "3.7.0"
  }
 },
 "nbformat": 4,
 "nbformat_minor": 2
}
